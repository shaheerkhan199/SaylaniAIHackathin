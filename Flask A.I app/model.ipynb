{
 "cells": [
  {
   "cell_type": "code",
   "execution_count": 70,
   "metadata": {},
   "outputs": [],
   "source": [
    "import os \n",
    "import numpy as np \n",
    "from keras.preprocessing.image import ImageDataGenerator, array_to_img, img_to_array, load_img\n",
    "folder_path = 'train_images/'\n",
    "#listOfImages = os.listdir(folder_path)\n",
    "#print(listOfImages)\n",
    "img_width, img_height = 320, 240\n",
    "\n",
    "train_images = []\n",
    "train_labels=[]\n",
    "for img in os.listdir(folder_path):\n",
    "    train_labels.append(img)\n",
    "    img=folder_path+img\n",
    "    #print(img)\n",
    "    img = load_img(img, target_size=(img_width, img_height))\n",
    "    img = img_to_array(img)\n",
    "    img = np.expand_dims(img, axis=0)\n",
    "    train_images.extend(img)\n",
    "# img1 = listOfImages[0]\n",
    "# print(img1)\n",
    "# url = folder_path+img1\n",
    "# myPic = load_img(url, target_size=(img_width, img_height))"
   ]
  },
  {
   "cell_type": "code",
   "execution_count": 71,
   "metadata": {},
   "outputs": [
    {
     "data": {
      "text/plain": [
       "['ahmer (1).jpg',\n",
       " 'ahmer (2).jpg',\n",
       " 'ahmer (3).jpg',\n",
       " 'ahmer (4).jpg',\n",
       " 'fayyaz  (1).jpg',\n",
       " 'fayyaz  (2).jpg',\n",
       " 'fayyaz  (3).jpg',\n",
       " 'fayyaz  (5).jpg',\n",
       " 'kashan  (1).jpg',\n",
       " 'kashan  (2).jpg',\n",
       " 'kashan  (3).jpg',\n",
       " 'kashan  (4).jpg',\n",
       " 'kashan  (5).jpg',\n",
       " 'mansoor  (1).jpg',\n",
       " 'mansoor  (2).jpg',\n",
       " 'mansoor  (3).jpg',\n",
       " 'mansoor  (4).jpg',\n",
       " 'sachin  (1).jpg',\n",
       " 'sachin  (2).jpg',\n",
       " 'sachin  (3).jpg',\n",
       " 'sachin  (5).jpg',\n",
       " 'shaheer (1).jpg',\n",
       " 'shaheer (2).jpg',\n",
       " 'shaheer (3).jpg',\n",
       " 'shaheer (4).jpg',\n",
       " 'shaheer (5).jpg',\n",
       " 'sir (1).jpg',\n",
       " 'sir (2).jpg',\n",
       " 'sir (3).jpg',\n",
       " 'sir (4).jpg',\n",
       " 'tehami (1).jpg',\n",
       " 'tehami (2).jpg',\n",
       " 'tehami (3).jpg',\n",
       " 'tehami (4).jpg',\n",
       " 'wahab (1).jpg',\n",
       " 'wahab (2).jpg',\n",
       " 'wahab (3).jpg',\n",
       " 'wahab (4).jpg']"
      ]
     },
     "execution_count": 71,
     "metadata": {},
     "output_type": "execute_result"
    }
   ],
   "source": [
    "train_labels"
   ]
  },
  {
   "cell_type": "code",
   "execution_count": 72,
   "metadata": {},
   "outputs": [
    {
     "data": {
      "text/plain": [
       "(38,)"
      ]
     },
     "execution_count": 72,
     "metadata": {},
     "output_type": "execute_result"
    }
   ],
   "source": [
    "train_labels = np.array(train_labels)\n",
    "train_labels.shape"
   ]
  },
  {
   "cell_type": "code",
   "execution_count": 73,
   "metadata": {},
   "outputs": [
    {
     "data": {
      "text/plain": [
       "array(['ahmer (1).jpg', 'ahmer (2).jpg', 'ahmer (3).jpg', 'ahmer (4).jpg',\n",
       "       'fayyaz  (1).jpg', 'fayyaz  (2).jpg', 'fayyaz  (3).jpg',\n",
       "       'fayyaz  (5).jpg', 'kashan  (1).jpg', 'kashan  (2).jpg',\n",
       "       'kashan  (3).jpg', 'kashan  (4).jpg', 'kashan  (5).jpg',\n",
       "       'mansoor  (1).jpg', 'mansoor  (2).jpg', 'mansoor  (3).jpg',\n",
       "       'mansoor  (4).jpg', 'sachin  (1).jpg', 'sachin  (2).jpg',\n",
       "       'sachin  (3).jpg', 'sachin  (5).jpg', 'shaheer (1).jpg',\n",
       "       'shaheer (2).jpg', 'shaheer (3).jpg', 'shaheer (4).jpg',\n",
       "       'shaheer (5).jpg', 'sir (1).jpg', 'sir (2).jpg', 'sir (3).jpg',\n",
       "       'sir (4).jpg', 'tehami (1).jpg', 'tehami (2).jpg',\n",
       "       'tehami (3).jpg', 'tehami (4).jpg', 'wahab (1).jpg',\n",
       "       'wahab (2).jpg', 'wahab (3).jpg', 'wahab (4).jpg'], dtype='<U16')"
      ]
     },
     "execution_count": 73,
     "metadata": {},
     "output_type": "execute_result"
    }
   ],
   "source": [
    "train_labels"
   ]
  },
  {
   "cell_type": "code",
   "execution_count": 74,
   "metadata": {},
   "outputs": [
    {
     "data": {
      "text/plain": [
       "(38, 320, 240, 3)"
      ]
     },
     "execution_count": 74,
     "metadata": {},
     "output_type": "execute_result"
    }
   ],
   "source": [
    "train_images= np.array(train_images)\n",
    "train_images.shape"
   ]
  },
  {
   "cell_type": "code",
   "execution_count": 75,
   "metadata": {},
   "outputs": [
    {
     "data": {
      "text/plain": [
       "array([[[[119., 107.,  69.],\n",
       "         [115., 103.,  65.],\n",
       "         [111., 103.,  66.],\n",
       "         ...,\n",
       "         [175., 175., 123.],\n",
       "         [176., 176., 124.],\n",
       "         [164., 164., 112.]],\n",
       "\n",
       "        [[125., 113.,  73.],\n",
       "         [116., 104.,  66.],\n",
       "         [113., 104.,  65.],\n",
       "         ...,\n",
       "         [173., 171., 122.],\n",
       "         [166., 164., 113.],\n",
       "         [168., 166., 115.]],\n",
       "\n",
       "        [[116., 107.,  66.],\n",
       "         [115., 103.,  63.],\n",
       "         [121., 109.,  69.],\n",
       "         ...,\n",
       "         [179., 179., 129.],\n",
       "         [184., 182., 133.],\n",
       "         [177., 175., 124.]],\n",
       "\n",
       "        ...,\n",
       "\n",
       "        [[144., 146., 141.],\n",
       "         [138., 139., 134.],\n",
       "         [144., 141., 136.],\n",
       "         ...,\n",
       "         [199., 207., 210.],\n",
       "         [195., 203., 206.],\n",
       "         [203., 211., 214.]],\n",
       "\n",
       "        [[149., 151., 146.],\n",
       "         [127., 126., 122.],\n",
       "         [147., 148., 142.],\n",
       "         ...,\n",
       "         [197., 205., 208.],\n",
       "         [202., 210., 213.],\n",
       "         [200., 208., 211.]],\n",
       "\n",
       "        [[145., 146., 141.],\n",
       "         [149., 150., 145.],\n",
       "         [143., 144., 138.],\n",
       "         ...,\n",
       "         [197., 205., 208.],\n",
       "         [198., 206., 209.],\n",
       "         [200., 210., 212.]]],\n",
       "\n",
       "\n",
       "       [[[122., 119.,  68.],\n",
       "         [134., 131.,  80.],\n",
       "         [105., 101.,  53.],\n",
       "         ...,\n",
       "         [180., 177., 122.],\n",
       "         [183., 181., 124.],\n",
       "         [180., 178., 117.]],\n",
       "\n",
       "        [[128., 125.,  74.],\n",
       "         [117., 114.,  63.],\n",
       "         [112., 110.,  59.],\n",
       "         ...,\n",
       "         [180., 179., 125.],\n",
       "         [180., 177., 124.],\n",
       "         [178., 175., 122.]],\n",
       "\n",
       "        [[117., 114.,  63.],\n",
       "         [129., 126.,  75.],\n",
       "         [114., 112.,  61.],\n",
       "         ...,\n",
       "         [180., 177., 126.],\n",
       "         [181., 178., 125.],\n",
       "         [179., 176., 121.]],\n",
       "\n",
       "        ...,\n",
       "\n",
       "        [[159., 158., 154.],\n",
       "         [158., 159., 153.],\n",
       "         [159., 160., 155.],\n",
       "         ...,\n",
       "         [201., 206., 209.],\n",
       "         [190., 195., 198.],\n",
       "         [200., 205., 208.]],\n",
       "\n",
       "        [[158., 157., 153.],\n",
       "         [147., 146., 142.],\n",
       "         [155., 156., 151.],\n",
       "         ...,\n",
       "         [200., 205., 208.],\n",
       "         [198., 203., 206.],\n",
       "         [192., 197., 200.]],\n",
       "\n",
       "        [[155., 154., 150.],\n",
       "         [151., 150., 145.],\n",
       "         [162., 163., 158.],\n",
       "         ...,\n",
       "         [197., 202., 205.],\n",
       "         [192., 200., 202.],\n",
       "         [201., 206., 209.]]],\n",
       "\n",
       "\n",
       "       [[[123., 111.,  71.],\n",
       "         [128., 116.,  76.],\n",
       "         [124., 115.,  72.],\n",
       "         ...,\n",
       "         [181., 178., 125.],\n",
       "         [181., 179., 128.],\n",
       "         [170., 168., 117.]],\n",
       "\n",
       "        [[118., 110.,  64.],\n",
       "         [119., 110.,  67.],\n",
       "         [121., 112.,  69.],\n",
       "         ...,\n",
       "         [176., 173., 118.],\n",
       "         [182., 180., 129.],\n",
       "         [181., 178., 127.]],\n",
       "\n",
       "        [[110., 103.,  59.],\n",
       "         [107., 100.,  54.],\n",
       "         [116., 109.,  65.],\n",
       "         ...,\n",
       "         [175., 169., 119.],\n",
       "         [181., 178., 125.],\n",
       "         [173., 170., 117.]],\n",
       "\n",
       "        ...,\n",
       "\n",
       "        [[153., 158., 154.],\n",
       "         [142., 144., 141.],\n",
       "         [138., 144., 140.],\n",
       "         ...,\n",
       "         [204., 210., 210.],\n",
       "         [197., 203., 203.],\n",
       "         [200., 206., 206.]],\n",
       "\n",
       "        [[155., 157., 154.],\n",
       "         [148., 150., 147.],\n",
       "         [154., 156., 153.],\n",
       "         ...,\n",
       "         [200., 206., 206.],\n",
       "         [203., 209., 209.],\n",
       "         [198., 207., 206.]],\n",
       "\n",
       "        [[155., 157., 152.],\n",
       "         [148., 150., 147.],\n",
       "         [150., 152., 149.],\n",
       "         ...,\n",
       "         [201., 207., 207.],\n",
       "         [202., 208., 208.],\n",
       "         [198., 204., 204.]]],\n",
       "\n",
       "\n",
       "       ...,\n",
       "\n",
       "\n",
       "       [[[142., 133.,  68.],\n",
       "         [153., 144.,  77.],\n",
       "         [148., 142.,  68.],\n",
       "         ...,\n",
       "         [192., 189., 136.],\n",
       "         [196., 193., 138.],\n",
       "         [196., 193., 140.]],\n",
       "\n",
       "        [[155., 147.,  82.],\n",
       "         [153., 145.,  80.],\n",
       "         [156., 149.,  79.],\n",
       "         ...,\n",
       "         [198., 192., 140.],\n",
       "         [201., 195., 143.],\n",
       "         [196., 191., 136.]],\n",
       "\n",
       "        [[144., 135.,  76.],\n",
       "         [151., 145.,  83.],\n",
       "         [152., 147.,  83.],\n",
       "         ...,\n",
       "         [199., 193., 141.],\n",
       "         [199., 193., 141.],\n",
       "         [197., 191., 141.]],\n",
       "\n",
       "        ...,\n",
       "\n",
       "        [[111.,  98.,  56.],\n",
       "         [106.,  92.,  53.],\n",
       "         [128., 114.,  77.],\n",
       "         ...,\n",
       "         [204., 213., 210.],\n",
       "         [210., 219., 216.],\n",
       "         [205., 214., 211.]],\n",
       "\n",
       "        [[120., 107.,  65.],\n",
       "         [111.,  98.,  56.],\n",
       "         [138., 120.,  82.],\n",
       "         ...,\n",
       "         [210., 219., 216.],\n",
       "         [208., 217., 214.],\n",
       "         [207., 218., 214.]],\n",
       "\n",
       "        [[124., 111.,  69.],\n",
       "         [103.,  89.,  50.],\n",
       "         [127., 112.,  73.],\n",
       "         ...,\n",
       "         [207., 216., 213.],\n",
       "         [204., 213., 210.],\n",
       "         [208., 217., 214.]]],\n",
       "\n",
       "\n",
       "       [[[117., 113.,  49.],\n",
       "         [150., 146.,  82.],\n",
       "         [143., 139.,  66.],\n",
       "         ...,\n",
       "         [202., 197., 139.],\n",
       "         [197., 193., 132.],\n",
       "         [200., 195., 137.]],\n",
       "\n",
       "        [[172., 162., 100.],\n",
       "         [160., 152.,  89.],\n",
       "         [144., 141.,  72.],\n",
       "         ...,\n",
       "         [201., 196., 138.],\n",
       "         [195., 190., 132.],\n",
       "         [198., 193., 135.]],\n",
       "\n",
       "        [[154., 145.,  78.],\n",
       "         [155., 148.,  80.],\n",
       "         [148., 143.,  77.],\n",
       "         ...,\n",
       "         [200., 195., 139.],\n",
       "         [204., 199., 143.],\n",
       "         [195., 190., 132.]],\n",
       "\n",
       "        ...,\n",
       "\n",
       "        [[140., 126.,  81.],\n",
       "         [123., 108.,  65.],\n",
       "         [124., 109.,  70.],\n",
       "         ...,\n",
       "         [213., 225., 225.],\n",
       "         [211., 223., 221.],\n",
       "         [210., 220., 219.]],\n",
       "\n",
       "        [[131., 119.,  67.],\n",
       "         [122., 109.,  65.],\n",
       "         [126., 111.,  72.],\n",
       "         ...,\n",
       "         [205., 217., 215.],\n",
       "         [207., 219., 217.],\n",
       "         [209., 221., 219.]],\n",
       "\n",
       "        [[124., 112.,  60.],\n",
       "         [118., 105.,  61.],\n",
       "         [128., 115.,  71.],\n",
       "         ...,\n",
       "         [207., 221., 221.],\n",
       "         [209., 221., 221.],\n",
       "         [207., 219., 217.]]],\n",
       "\n",
       "\n",
       "       [[[126., 117.,  50.],\n",
       "         [123., 112.,  58.],\n",
       "         [132., 121.,  65.],\n",
       "         ...,\n",
       "         [174., 178., 101.],\n",
       "         [169., 176.,  98.],\n",
       "         [173., 179., 105.]],\n",
       "\n",
       "        [[129., 119.,  57.],\n",
       "         [121., 110.,  56.],\n",
       "         [131., 120.,  66.],\n",
       "         ...,\n",
       "         [173., 176., 105.],\n",
       "         [171., 177., 103.],\n",
       "         [171., 177., 105.]],\n",
       "\n",
       "        [[139., 122.,  68.],\n",
       "         [131., 118.,  66.],\n",
       "         [123., 111.,  61.],\n",
       "         ...,\n",
       "         [173., 178., 111.],\n",
       "         [175., 177., 111.],\n",
       "         [172., 175., 106.]],\n",
       "\n",
       "        ...,\n",
       "\n",
       "        [[116.,  96.,  59.],\n",
       "         [112.,  92.,  55.],\n",
       "         [108.,  92.,  56.],\n",
       "         ...,\n",
       "         [183., 188., 194.],\n",
       "         [157., 164., 157.],\n",
       "         [187., 192., 188.]],\n",
       "\n",
       "        [[116.,  93.,  59.],\n",
       "         [109.,  89.,  54.],\n",
       "         [109.,  93.,  59.],\n",
       "         ...,\n",
       "         [184., 189., 192.],\n",
       "         [166., 171., 165.],\n",
       "         [185., 190., 186.]],\n",
       "\n",
       "        [[124.,  95.,  63.],\n",
       "         [ 99.,  79.,  44.],\n",
       "         [106.,  90.,  54.],\n",
       "         ...,\n",
       "         [191., 195., 194.],\n",
       "         [172., 174., 171.],\n",
       "         [193., 195., 194.]]]], dtype=float32)"
      ]
     },
     "execution_count": 75,
     "metadata": {},
     "output_type": "execute_result"
    }
   ],
   "source": [
    "train_images"
   ]
  },
  {
   "cell_type": "code",
   "execution_count": 76,
   "metadata": {},
   "outputs": [],
   "source": [
    "import os \n",
    "import numpy as np \n",
    "from keras.preprocessing.image import ImageDataGenerator, array_to_img, img_to_array, load_img\n",
    "folder_path = 'test_images/'\n",
    "#listOfImages = os.listdir(folder_path)\n",
    "#print(listOfImages)\n",
    "img_width, img_height = 320, 240\n",
    "\n",
    "test_images = []\n",
    "test_labels=[]\n",
    "for img in os.listdir(folder_path):\n",
    "    test_labels.append(img)\n",
    "    img=folder_path+img\n",
    "    #print(img)\n",
    "    img = load_img(img, target_size=(img_width, img_height))\n",
    "    img = img_to_array(img)\n",
    "    img = np.expand_dims(img, axis=0)\n",
    "    test_images.extend(img)\n",
    "# img1 = listOfImages[0]\n",
    "# print(img1)\n",
    "# url = folder_path+img1\n",
    "# myPic = load_img(url, target_size=(img_width, img_height))"
   ]
  },
  {
   "cell_type": "code",
   "execution_count": 77,
   "metadata": {},
   "outputs": [],
   "source": [
    "test_images=np.array(test_images)"
   ]
  },
  {
   "cell_type": "code",
   "execution_count": 78,
   "metadata": {},
   "outputs": [
    {
     "data": {
      "text/plain": [
       "(9, 320, 240, 3)"
      ]
     },
     "execution_count": 78,
     "metadata": {},
     "output_type": "execute_result"
    }
   ],
   "source": [
    "test_images.shape"
   ]
  },
  {
   "cell_type": "code",
   "execution_count": 105,
   "metadata": {},
   "outputs": [
    {
     "data": {
      "text/plain": [
       "array(['ahmer (5).jpg', 'fayyaz  (4).jpg', 'kashan  (6).jpg',\n",
       "       'mansoor  (5).jpg', 'sachin  (4).jpg', 'shaheer (4).jpg',\n",
       "       'sir (5).jpg', 'tehami (5).jpg', 'wahab (5).jpg'], dtype='<U16')"
      ]
     },
     "execution_count": 105,
     "metadata": {},
     "output_type": "execute_result"
    }
   ],
   "source": [
    "test_labels"
   ]
  },
  {
   "cell_type": "code",
   "execution_count": 80,
   "metadata": {},
   "outputs": [],
   "source": [
    "test_labels= np.array(test_labels)"
   ]
  },
  {
   "cell_type": "code",
   "execution_count": 81,
   "metadata": {},
   "outputs": [
    {
     "data": {
      "text/plain": [
       "(9,)"
      ]
     },
     "execution_count": 81,
     "metadata": {},
     "output_type": "execute_result"
    }
   ],
   "source": [
    "test_labels.shape"
   ]
  },
  {
   "cell_type": "code",
   "execution_count": 82,
   "metadata": {},
   "outputs": [],
   "source": [
    "from keras import layers\n",
    "from keras import models"
   ]
  },
  {
   "cell_type": "code",
   "execution_count": 83,
   "metadata": {},
   "outputs": [],
   "source": [
    "# train_images=list(train_images)\n",
    "# for img in train_images:\n",
    "#     train_images.append(img.reshape(320*240,3))"
   ]
  },
  {
   "cell_type": "code",
   "execution_count": 84,
   "metadata": {},
   "outputs": [],
   "source": [
    "model = models.Sequential()\n",
    "model.add(layers.Conv2D(32, (3, 3), activation='relu', input_shape=(320, 240, 3)))\n",
    "model.add(layers.MaxPooling2D((2, 2)))\n",
    "model.add(layers.Conv2D(64, (3, 3), activation='relu'))\n",
    "model.add(layers.MaxPooling2D((2, 2)))\n",
    "model.add(layers.Conv2D(64, (3, 3), activation='softmax'))\n",
    "model.add(layers.Flatten())\n",
    "model.add(layers.Dense(64, activation='relu'))\n",
    "model.add(layers.Dense(9, activation='softmax'))"
   ]
  },
  {
   "cell_type": "markdown",
   "metadata": {},
   "source": [
    "model.summary()"
   ]
  },
  {
   "cell_type": "code",
   "execution_count": 85,
   "metadata": {},
   "outputs": [
    {
     "name": "stdout",
     "output_type": "stream",
     "text": [
      "_________________________________________________________________\n",
      "Layer (type)                 Output Shape              Param #   \n",
      "=================================================================\n",
      "conv2d_17 (Conv2D)           (None, 318, 238, 32)      896       \n",
      "_________________________________________________________________\n",
      "max_pooling2d_11 (MaxPooling (None, 159, 119, 32)      0         \n",
      "_________________________________________________________________\n",
      "conv2d_18 (Conv2D)           (None, 157, 117, 64)      18496     \n",
      "_________________________________________________________________\n",
      "max_pooling2d_12 (MaxPooling (None, 78, 58, 64)        0         \n",
      "_________________________________________________________________\n",
      "conv2d_19 (Conv2D)           (None, 76, 56, 64)        36928     \n",
      "_________________________________________________________________\n",
      "flatten_4 (Flatten)          (None, 272384)            0         \n",
      "_________________________________________________________________\n",
      "dense_7 (Dense)              (None, 64)                17432640  \n",
      "_________________________________________________________________\n",
      "dense_8 (Dense)              (None, 9)                 585       \n",
      "=================================================================\n",
      "Total params: 17,489,545\n",
      "Trainable params: 17,489,545\n",
      "Non-trainable params: 0\n",
      "_________________________________________________________________\n"
     ]
    }
   ],
   "source": [
    "model.summary()"
   ]
  },
  {
   "cell_type": "code",
   "execution_count": 86,
   "metadata": {},
   "outputs": [
    {
     "data": {
      "text/plain": [
       "array([[119., 107.,  69.],\n",
       "       [115., 103.,  65.],\n",
       "       [111., 103.,  66.],\n",
       "       ...,\n",
       "       [197., 205., 208.],\n",
       "       [198., 206., 209.],\n",
       "       [200., 210., 212.]], dtype=float32)"
      ]
     },
     "execution_count": 86,
     "metadata": {},
     "output_type": "execute_result"
    }
   ],
   "source": [
    "train_images[0].reshape(320*240,3)"
   ]
  },
  {
   "cell_type": "code",
   "execution_count": 87,
   "metadata": {},
   "outputs": [],
   "source": [
    "from keras import optimizers\n",
    "model.compile(loss='categorical_crossentropy', optimizer=optimizers.RMSprop(lr=1e-4), metrics=['acc'])"
   ]
  },
  {
   "cell_type": "code",
   "execution_count": 88,
   "metadata": {},
   "outputs": [
    {
     "data": {
      "text/plain": [
       "array(['ahmer (1).jpg', 'ahmer (2).jpg', 'ahmer (3).jpg', 'ahmer (4).jpg',\n",
       "       'fayyaz  (1).jpg', 'fayyaz  (2).jpg', 'fayyaz  (3).jpg',\n",
       "       'fayyaz  (5).jpg', 'kashan  (1).jpg', 'kashan  (2).jpg',\n",
       "       'kashan  (3).jpg', 'kashan  (4).jpg', 'kashan  (5).jpg',\n",
       "       'mansoor  (1).jpg', 'mansoor  (2).jpg', 'mansoor  (3).jpg',\n",
       "       'mansoor  (4).jpg', 'sachin  (1).jpg', 'sachin  (2).jpg',\n",
       "       'sachin  (3).jpg', 'sachin  (5).jpg', 'shaheer (1).jpg',\n",
       "       'shaheer (2).jpg', 'shaheer (3).jpg', 'shaheer (4).jpg',\n",
       "       'shaheer (5).jpg', 'sir (1).jpg', 'sir (2).jpg', 'sir (3).jpg',\n",
       "       'sir (4).jpg', 'tehami (1).jpg', 'tehami (2).jpg',\n",
       "       'tehami (3).jpg', 'tehami (4).jpg', 'wahab (1).jpg',\n",
       "       'wahab (2).jpg', 'wahab (3).jpg', 'wahab (4).jpg'], dtype='<U16')"
      ]
     },
     "execution_count": 88,
     "metadata": {},
     "output_type": "execute_result"
    }
   ],
   "source": [
    "train_labels"
   ]
  },
  {
   "cell_type": "code",
   "execution_count": 92,
   "metadata": {},
   "outputs": [],
   "source": [
    "# from keras.utils import to_categorical\n",
    "# train_labels = to_categorical(train_labels)"
   ]
  },
  {
   "cell_type": "code",
   "execution_count": 99,
   "metadata": {},
   "outputs": [
    {
     "name": "stdout",
     "output_type": "stream",
     "text": [
      "[0, 0, 0, 0, 1, 1, 1, 1, 2, 2, 2, 2, 2, 3, 3, 3, 3, 4, 4, 4, 4, 5, 5, 5, 5, 5, 6, 6, 6, 6, 7, 7, 7, 7, 8, 8, 8, 8]\n"
     ]
    }
   ],
   "source": [
    "train_labels_test=[0,0,0,0,1,1,1,1,2,2,2,2,2,3,3,3,3,4,4,4,4,5,5,5,5,5,6,6,6,6,7,7,7,7,8,8,8,8]\n",
    "print(train_labels_test)"
   ]
  },
  {
   "cell_type": "code",
   "execution_count": 100,
   "metadata": {},
   "outputs": [
    {
     "data": {
      "text/plain": [
       "array([[1., 0., 0., 0., 0., 0., 0., 0., 0.],\n",
       "       [1., 0., 0., 0., 0., 0., 0., 0., 0.],\n",
       "       [1., 0., 0., 0., 0., 0., 0., 0., 0.],\n",
       "       [1., 0., 0., 0., 0., 0., 0., 0., 0.],\n",
       "       [0., 1., 0., 0., 0., 0., 0., 0., 0.],\n",
       "       [0., 1., 0., 0., 0., 0., 0., 0., 0.],\n",
       "       [0., 1., 0., 0., 0., 0., 0., 0., 0.],\n",
       "       [0., 1., 0., 0., 0., 0., 0., 0., 0.],\n",
       "       [0., 0., 1., 0., 0., 0., 0., 0., 0.],\n",
       "       [0., 0., 1., 0., 0., 0., 0., 0., 0.],\n",
       "       [0., 0., 1., 0., 0., 0., 0., 0., 0.],\n",
       "       [0., 0., 1., 0., 0., 0., 0., 0., 0.],\n",
       "       [0., 0., 1., 0., 0., 0., 0., 0., 0.],\n",
       "       [0., 0., 0., 1., 0., 0., 0., 0., 0.],\n",
       "       [0., 0., 0., 1., 0., 0., 0., 0., 0.],\n",
       "       [0., 0., 0., 1., 0., 0., 0., 0., 0.],\n",
       "       [0., 0., 0., 1., 0., 0., 0., 0., 0.],\n",
       "       [0., 0., 0., 0., 1., 0., 0., 0., 0.],\n",
       "       [0., 0., 0., 0., 1., 0., 0., 0., 0.],\n",
       "       [0., 0., 0., 0., 1., 0., 0., 0., 0.],\n",
       "       [0., 0., 0., 0., 1., 0., 0., 0., 0.],\n",
       "       [0., 0., 0., 0., 0., 1., 0., 0., 0.],\n",
       "       [0., 0., 0., 0., 0., 1., 0., 0., 0.],\n",
       "       [0., 0., 0., 0., 0., 1., 0., 0., 0.],\n",
       "       [0., 0., 0., 0., 0., 1., 0., 0., 0.],\n",
       "       [0., 0., 0., 0., 0., 1., 0., 0., 0.],\n",
       "       [0., 0., 0., 0., 0., 0., 1., 0., 0.],\n",
       "       [0., 0., 0., 0., 0., 0., 1., 0., 0.],\n",
       "       [0., 0., 0., 0., 0., 0., 1., 0., 0.],\n",
       "       [0., 0., 0., 0., 0., 0., 1., 0., 0.],\n",
       "       [0., 0., 0., 0., 0., 0., 0., 1., 0.],\n",
       "       [0., 0., 0., 0., 0., 0., 0., 1., 0.],\n",
       "       [0., 0., 0., 0., 0., 0., 0., 1., 0.],\n",
       "       [0., 0., 0., 0., 0., 0., 0., 1., 0.],\n",
       "       [0., 0., 0., 0., 0., 0., 0., 0., 1.],\n",
       "       [0., 0., 0., 0., 0., 0., 0., 0., 1.],\n",
       "       [0., 0., 0., 0., 0., 0., 0., 0., 1.],\n",
       "       [0., 0., 0., 0., 0., 0., 0., 0., 1.]], dtype=float32)"
      ]
     },
     "execution_count": 100,
     "metadata": {},
     "output_type": "execute_result"
    }
   ],
   "source": [
    "from keras.utils import to_categorical\n",
    "train_labels_test = to_categorical(train_labels_test)\n",
    "train_labels_test"
   ]
  },
  {
   "cell_type": "code",
   "execution_count": 101,
   "metadata": {},
   "outputs": [
    {
     "name": "stdout",
     "output_type": "stream",
     "text": [
      "WARNING:tensorflow:From C:\\ProgramData\\Anaconda3\\lib\\site-packages\\tensorflow\\python\\ops\\math_ops.py:3066: to_int32 (from tensorflow.python.ops.math_ops) is deprecated and will be removed in a future version.\n",
      "Instructions for updating:\n",
      "Use tf.cast instead.\n",
      "WARNING:tensorflow:From C:\\ProgramData\\Anaconda3\\lib\\site-packages\\tensorflow\\python\\ops\\math_grad.py:102: div (from tensorflow.python.ops.math_ops) is deprecated and will be removed in a future version.\n",
      "Instructions for updating:\n",
      "Deprecated in favor of operator or tf.math.divide.\n",
      "Epoch 1/5\n",
      "38/38 [==============================] - 15s 382ms/step - loss: 2.1897 - acc: 0.1053\n",
      "Epoch 2/5\n",
      "38/38 [==============================] - 10s 252ms/step - loss: 2.4201 - acc: 0.1316\n",
      "Epoch 3/5\n",
      "38/38 [==============================] - 10s 254ms/step - loss: 2.2347 - acc: 0.1316\n",
      "Epoch 4/5\n",
      "38/38 [==============================] - 10s 252ms/step - loss: 2.4761 - acc: 0.1842\n",
      "Epoch 5/5\n",
      "38/38 [==============================] - 9s 249ms/step - loss: 1.8467 - acc: 0.3947\n"
     ]
    },
    {
     "data": {
      "text/plain": [
       "<keras.callbacks.History at 0x14aa24ed278>"
      ]
     },
     "execution_count": 101,
     "metadata": {},
     "output_type": "execute_result"
    }
   ],
   "source": [
    "model.fit(train_images, train_labels_test, epochs=5, batch_size=128)"
   ]
  },
  {
   "cell_type": "code",
   "execution_count": 107,
   "metadata": {},
   "outputs": [],
   "source": [
    "test_labels_test=[0,1,2,3,4,5,6,7,8]"
   ]
  },
  {
   "cell_type": "code",
   "execution_count": 109,
   "metadata": {},
   "outputs": [
    {
     "data": {
      "text/plain": [
       "array([[1., 0., 0., 0., 0., 0., 0., 0., 0.],\n",
       "       [0., 1., 0., 0., 0., 0., 0., 0., 0.],\n",
       "       [0., 0., 1., 0., 0., 0., 0., 0., 0.],\n",
       "       [0., 0., 0., 1., 0., 0., 0., 0., 0.],\n",
       "       [0., 0., 0., 0., 1., 0., 0., 0., 0.],\n",
       "       [0., 0., 0., 0., 0., 1., 0., 0., 0.],\n",
       "       [0., 0., 0., 0., 0., 0., 1., 0., 0.],\n",
       "       [0., 0., 0., 0., 0., 0., 0., 1., 0.],\n",
       "       [0., 0., 0., 0., 0., 0., 0., 0., 1.]], dtype=float32)"
      ]
     },
     "execution_count": 109,
     "metadata": {},
     "output_type": "execute_result"
    }
   ],
   "source": [
    "from keras.utils import to_categorical\n",
    "test_labels_test = to_categorical(test_labels_test)\n",
    "test_labels_test"
   ]
  },
  {
   "cell_type": "code",
   "execution_count": 110,
   "metadata": {},
   "outputs": [
    {
     "name": "stdout",
     "output_type": "stream",
     "text": [
      "\r",
      "9/9 [==============================] - 1s 115ms/step\n"
     ]
    }
   ],
   "source": [
    "test_loss, test_acc = model.evaluate(test_images, test_labels_test)"
   ]
  },
  {
   "cell_type": "code",
   "execution_count": 111,
   "metadata": {},
   "outputs": [
    {
     "name": "stdout",
     "output_type": "stream",
     "text": [
      "Test Loss:  2.705195426940918\n"
     ]
    }
   ],
   "source": [
    "print(\"Test Loss: \", test_loss)"
   ]
  },
  {
   "cell_type": "code",
   "execution_count": 115,
   "metadata": {},
   "outputs": [
    {
     "name": "stdout",
     "output_type": "stream",
     "text": [
      "Test Accuracy:  0.1111111119389534\n"
     ]
    }
   ],
   "source": [
    "print(\"Test Accuracy: \", test_acc)"
   ]
  },
  {
   "cell_type": "code",
   "execution_count": 117,
   "metadata": {},
   "outputs": [
    {
     "name": "stdout",
     "output_type": "stream",
     "text": [
      "38/38 [==============================] - 4s 96ms/step\n"
     ]
    }
   ],
   "source": [
    "train_loss, train_acc = model.evaluate(train_images, train_labels_test)"
   ]
  },
  {
   "cell_type": "code",
   "execution_count": 118,
   "metadata": {},
   "outputs": [
    {
     "name": "stdout",
     "output_type": "stream",
     "text": [
      "Train Loss:  2.3876535641519645\n"
     ]
    }
   ],
   "source": [
    "print(\"Train Loss: \", train_loss)"
   ]
  },
  {
   "cell_type": "code",
   "execution_count": 119,
   "metadata": {},
   "outputs": [
    {
     "name": "stdout",
     "output_type": "stream",
     "text": [
      "Train Accuracy:  0.21052631578947367\n"
     ]
    }
   ],
   "source": [
    "print(\"Train Accuracy: \", train_acc)"
   ]
  },
  {
   "cell_type": "code",
   "execution_count": null,
   "metadata": {},
   "outputs": [],
   "source": []
  }
 ],
 "metadata": {
  "kernelspec": {
   "display_name": "Python 3",
   "language": "python",
   "name": "python3"
  },
  "language_info": {
   "codemirror_mode": {
    "name": "ipython",
    "version": 3
   },
   "file_extension": ".py",
   "mimetype": "text/x-python",
   "name": "python",
   "nbconvert_exporter": "python",
   "pygments_lexer": "ipython3",
   "version": "3.7.1"
  }
 },
 "nbformat": 4,
 "nbformat_minor": 2
}
